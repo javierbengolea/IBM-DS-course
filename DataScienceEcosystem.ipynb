{
 "cells": [
  {
   "cell_type": "markdown",
   "id": "56c15373-fb2c-4ad2-8294-df4e18ffc248",
   "metadata": {},
   "source": [
    "# Data Science Tools and Ecosystem"
   ]
  },
  {
   "cell_type": "markdown",
   "id": "7f0cc775-6566-4eae-817f-797a2c8c16e4",
   "metadata": {},
   "source": [
    "In this notebook, Data Science Tools and Ecosystem are summarized."
   ]
  },
  {
   "cell_type": "markdown",
   "id": "549183c2-4c5a-4e2c-91a9-b21a266d3f5d",
   "metadata": {},
   "source": [
    "Some of the popular languages that Data Scientists use are:\n",
    "1. Python\n",
    "2. R\n",
    "3. SQL"
   ]
  },
  {
   "cell_type": "markdown",
   "id": "1d13a726-aba8-4079-a7f8-4461e2fa67e0",
   "metadata": {},
   "source": [
    "Some of the commonly used libraries used by Data Scientists include:\n",
    "1. Pandas\n",
    "2. Numpy\n",
    "3. Matplotlib\n",
    "4. Seaborn\n",
    "5. Scikit-learn"
   ]
  },
  {
   "cell_type": "markdown",
   "id": "40e02acc-27ff-4c9b-8f32-6591746cec54",
   "metadata": {},
   "source": [
    "| Data Science Tools |\n",
    "| :----------------- |\n",
    "| Jupyter Notebooks  |\n",
    "| RStudio            |\n",
    "| IBM Watson Studio  |"
   ]
  },
  {
   "cell_type": "markdown",
   "id": "40c7fdc8-cec8-450a-ae6c-6cf3422ccac6",
   "metadata": {},
   "source": [
    "### Below are a few examples of evaluating arithmetic expressions in Python"
   ]
  },
  {
   "cell_type": "code",
   "execution_count": 1,
   "id": "cc84991d-565f-481f-95a4-c28494f97e83",
   "metadata": {},
   "outputs": [
    {
     "data": {
      "text/plain": [
       "17"
      ]
     },
     "execution_count": 1,
     "metadata": {},
     "output_type": "execute_result"
    }
   ],
   "source": [
    "# This a simple arithmetic expression to mutiply then add integers\n",
    "(3*4)+5"
   ]
  },
  {
   "cell_type": "code",
   "execution_count": 2,
   "id": "f62b2a91-1136-405e-811f-c8fa4c200d7e",
   "metadata": {},
   "outputs": [
    {
     "name": "stdout",
     "output_type": "stream",
     "text": [
      "200 minutes are equivalent to 3.33 hours.\n"
     ]
    }
   ],
   "source": [
    "# This will convert 200 minutes to hours by diving by 60\n",
    "minutes = 200\n",
    "hours = minutes/60\n",
    "\n",
    "print(f\"{minutes} minutes are equivalent to {hours:.2f} hours.\")"
   ]
  },
  {
   "cell_type": "markdown",
   "id": "da269d4e-5a3c-42db-a587-97395245d851",
   "metadata": {},
   "source": [
    "**Objectives**\n",
    "\n",
    "- List popular languages for Data Science\n",
    "- Highlight some popular libraries for Data Science\n",
    "- Mention the most popular Data Science Tools\n",
    "- Provide examples of Python arithmetic operations"
   ]
  },
  {
   "cell_type": "markdown",
   "id": "6c69a31b-73a6-4d5f-a8fb-ff13b1831ec8",
   "metadata": {},
   "source": [
    "## Author\n",
    "Javier Bengolea"
   ]
  }
 ],
 "metadata": {
  "kernelspec": {
   "display_name": "Python 3 (ipykernel)",
   "language": "python",
   "name": "python3"
  },
  "language_info": {
   "codemirror_mode": {
    "name": "ipython",
    "version": 3
   },
   "file_extension": ".py",
   "mimetype": "text/x-python",
   "name": "python",
   "nbconvert_exporter": "python",
   "pygments_lexer": "ipython3",
   "version": "3.12.1"
  }
 },
 "nbformat": 4,
 "nbformat_minor": 5
}
